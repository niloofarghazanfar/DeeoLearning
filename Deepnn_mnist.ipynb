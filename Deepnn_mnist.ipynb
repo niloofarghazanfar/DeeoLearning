{
  "nbformat": 4,
  "nbformat_minor": 0,
  "metadata": {
    "colab": {
      "name": "Deepnn-mnist.ipynb",
      "provenance": [],
      "collapsed_sections": []
    },
    "kernelspec": {
      "name": "python3",
      "display_name": "Python 3"
    },
    "language_info": {
      "name": "python"
    }
  },
  "cells": [
    {
      "cell_type": "code",
      "metadata": {
        "id": "k8b3fJg1TPi5"
      },
      "source": [
        "from sklearn.neural_network import MLPClassifier\n",
        "from sklearn.datasets import fetch_openml\n",
        "import matplotlib.pyplot as plt"
      ],
      "execution_count": 6,
      "outputs": []
    },
    {
      "cell_type": "code",
      "metadata": {
        "id": "FZ8kwVMdTRUF"
      },
      "source": [
        "X, y = fetch_openml('mnist_784', version=1, return_X_y=True)\n",
        "X = X / 255."
      ],
      "execution_count": 7,
      "outputs": []
    },
    {
      "cell_type": "code",
      "metadata": {
        "colab": {
          "base_uri": "https://localhost:8080/"
        },
        "id": "XF1_ARxyTguo",
        "outputId": "c2dd8e5d-dcf4-4ed4-d484-cdfc3887faf2"
      },
      "source": [
        "X"
      ],
      "execution_count": 8,
      "outputs": [
        {
          "output_type": "execute_result",
          "data": {
            "text/plain": [
              "array([[0., 0., 0., ..., 0., 0., 0.],\n",
              "       [0., 0., 0., ..., 0., 0., 0.],\n",
              "       [0., 0., 0., ..., 0., 0., 0.],\n",
              "       ...,\n",
              "       [0., 0., 0., ..., 0., 0., 0.],\n",
              "       [0., 0., 0., ..., 0., 0., 0.],\n",
              "       [0., 0., 0., ..., 0., 0., 0.]])"
            ]
          },
          "metadata": {
            "tags": []
          },
          "execution_count": 8
        }
      ]
    },
    {
      "cell_type": "code",
      "metadata": {
        "colab": {
          "base_uri": "https://localhost:8080/"
        },
        "id": "Rqy3vJDbTuPR",
        "outputId": "b62dd5c1-9fb9-4317-f273-68ab7bda2ba4"
      },
      "source": [
        "X.shape"
      ],
      "execution_count": 9,
      "outputs": [
        {
          "output_type": "execute_result",
          "data": {
            "text/plain": [
              "(70000, 784)"
            ]
          },
          "metadata": {
            "tags": []
          },
          "execution_count": 9
        }
      ]
    },
    {
      "cell_type": "code",
      "metadata": {
        "colab": {
          "base_uri": "https://localhost:8080/"
        },
        "id": "-99TInfBUDPa",
        "outputId": "1ad1b337-fa61-4d71-d507-7e2cc4d7d27c"
      },
      "source": [
        "y"
      ],
      "execution_count": 10,
      "outputs": [
        {
          "output_type": "execute_result",
          "data": {
            "text/plain": [
              "array(['5', '0', '4', ..., '4', '5', '6'], dtype=object)"
            ]
          },
          "metadata": {
            "tags": []
          },
          "execution_count": 10
        }
      ]
    },
    {
      "cell_type": "code",
      "metadata": {
        "id": "6-Cxy2lPUGLi"
      },
      "source": [
        "X_train = X[:60000]\n",
        "X_test  = X[60000:]\n",
        "y_train = y[:60000]\n",
        "y_test  = y[60000:]"
      ],
      "execution_count": 11,
      "outputs": []
    },
    {
      "cell_type": "code",
      "metadata": {
        "id": "kZmSIohBUQ7Y"
      },
      "source": [
        "model = MLPClassifier(hidden_layer_sizes=(80,) , max_iter=100 , alpha=1e-4,solver='sgd', random_state=1 \n",
        "                      , learning_rate_init=.1 , verbose=10 , tol=1e-4)"
      ],
      "execution_count": 12,
      "outputs": []
    },
    {
      "cell_type": "code",
      "metadata": {
        "colab": {
          "base_uri": "https://localhost:8080/"
        },
        "id": "UCMIKa5WUWVw",
        "outputId": "f3852e33-5af0-43af-acfd-77988cb21dca"
      },
      "source": [
        "model.fit(X_train, y_train)"
      ],
      "execution_count": 13,
      "outputs": [
        {
          "output_type": "stream",
          "text": [
            "Iteration 1, loss = 0.30361451\n",
            "Iteration 2, loss = 0.13664629\n",
            "Iteration 3, loss = 0.09727454\n",
            "Iteration 4, loss = 0.07644860\n",
            "Iteration 5, loss = 0.06356449\n",
            "Iteration 6, loss = 0.05346034\n",
            "Iteration 7, loss = 0.04725669\n",
            "Iteration 8, loss = 0.03974938\n",
            "Iteration 9, loss = 0.03402072\n",
            "Iteration 10, loss = 0.02866843\n",
            "Iteration 11, loss = 0.02355701\n",
            "Iteration 12, loss = 0.02108286\n",
            "Iteration 13, loss = 0.01763576\n",
            "Iteration 14, loss = 0.01469122\n",
            "Iteration 15, loss = 0.01298451\n",
            "Iteration 16, loss = 0.01085207\n",
            "Iteration 17, loss = 0.00931402\n",
            "Iteration 18, loss = 0.00784470\n",
            "Iteration 19, loss = 0.00638302\n",
            "Iteration 20, loss = 0.00529089\n",
            "Iteration 21, loss = 0.00458400\n",
            "Iteration 22, loss = 0.00422500\n",
            "Iteration 23, loss = 0.00379464\n",
            "Iteration 24, loss = 0.00340990\n",
            "Iteration 25, loss = 0.00290567\n",
            "Iteration 26, loss = 0.00270662\n",
            "Iteration 27, loss = 0.00244099\n",
            "Iteration 28, loss = 0.00229235\n",
            "Iteration 29, loss = 0.00214197\n",
            "Iteration 30, loss = 0.00202769\n",
            "Iteration 31, loss = 0.00192131\n",
            "Iteration 32, loss = 0.00182998\n",
            "Iteration 33, loss = 0.00174884\n",
            "Iteration 34, loss = 0.00169022\n",
            "Iteration 35, loss = 0.00162066\n",
            "Iteration 36, loss = 0.00154102\n",
            "Iteration 37, loss = 0.00149530\n",
            "Iteration 38, loss = 0.00144427\n",
            "Iteration 39, loss = 0.00140033\n",
            "Iteration 40, loss = 0.00135293\n",
            "Iteration 41, loss = 0.00131595\n",
            "Iteration 42, loss = 0.00128142\n",
            "Training loss did not improve more than tol=0.000100 for 10 consecutive epochs. Stopping.\n"
          ],
          "name": "stdout"
        },
        {
          "output_type": "execute_result",
          "data": {
            "text/plain": [
              "MLPClassifier(activation='relu', alpha=0.0001, batch_size='auto', beta_1=0.9,\n",
              "              beta_2=0.999, early_stopping=False, epsilon=1e-08,\n",
              "              hidden_layer_sizes=(80,), learning_rate='constant',\n",
              "              learning_rate_init=0.1, max_fun=15000, max_iter=100, momentum=0.9,\n",
              "              n_iter_no_change=10, nesterovs_momentum=True, power_t=0.5,\n",
              "              random_state=1, shuffle=True, solver='sgd', tol=0.0001,\n",
              "              validation_fraction=0.1, verbose=10, warm_start=False)"
            ]
          },
          "metadata": {
            "tags": []
          },
          "execution_count": 13
        }
      ]
    },
    {
      "cell_type": "code",
      "metadata": {
        "colab": {
          "base_uri": "https://localhost:8080/"
        },
        "id": "oFErqfC4UuEh",
        "outputId": "ef5fb9ea-5388-4bb9-a77a-b8d5fea4660c"
      },
      "source": [
        "model.score(X_train, y_train)"
      ],
      "execution_count": 14,
      "outputs": [
        {
          "output_type": "execute_result",
          "data": {
            "text/plain": [
              "1.0"
            ]
          },
          "metadata": {
            "tags": []
          },
          "execution_count": 14
        }
      ]
    },
    {
      "cell_type": "code",
      "metadata": {
        "colab": {
          "base_uri": "https://localhost:8080/"
        },
        "id": "6GTo3HhMU17U",
        "outputId": "80afc370-aaf6-47f1-c7df-dded39923acf"
      },
      "source": [
        "y_pred = model.predict(X_test)\n",
        "y_pred"
      ],
      "execution_count": 16,
      "outputs": [
        {
          "output_type": "execute_result",
          "data": {
            "text/plain": [
              "array(['7', '2', '1', ..., '4', '5', '6'], dtype='<U1')"
            ]
          },
          "metadata": {
            "tags": []
          },
          "execution_count": 16
        }
      ]
    },
    {
      "cell_type": "code",
      "metadata": {
        "colab": {
          "base_uri": "https://localhost:8080/"
        },
        "id": "bogyYdtIVBCu",
        "outputId": "793ca01b-9e06-49a9-d770-8624a33c08b1"
      },
      "source": [
        "y_test"
      ],
      "execution_count": 17,
      "outputs": [
        {
          "output_type": "execute_result",
          "data": {
            "text/plain": [
              "array(['7', '2', '1', ..., '4', '5', '6'], dtype=object)"
            ]
          },
          "metadata": {
            "tags": []
          },
          "execution_count": 17
        }
      ]
    },
    {
      "cell_type": "code",
      "metadata": {
        "colab": {
          "base_uri": "https://localhost:8080/"
        },
        "id": "UX8b9q_dVIUG",
        "outputId": "4010367d-3553-415a-f2c7-79693535aefa"
      },
      "source": [
        "model.score(X_test,y_test)"
      ],
      "execution_count": 18,
      "outputs": [
        {
          "output_type": "execute_result",
          "data": {
            "text/plain": [
              "0.9784"
            ]
          },
          "metadata": {
            "tags": []
          },
          "execution_count": 18
        }
      ]
    }
  ]
}